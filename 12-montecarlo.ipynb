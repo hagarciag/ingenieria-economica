{
 "cells": [
  {
   "cell_type": "markdown",
   "metadata": {},
   "source": [
    "Análisis bajo riesgo\n",
    "===\n",
    "\n",
    "**Juan David Velásquez Henao**  \n",
    "jdvelasq@unal.edu.co   \n",
    "Universidad Nacional de Colombia, Sede Medellín  \n",
    "Facultad de Minas  \n",
    "Medellín, Colombia\n",
    "\n",
    "---\n",
    "\n",
    "Haga click [aquí](https://github.com/jdvelasq/ingenieria-economica/blob/master/13-montecarlo.ipynb) para acceder a la última versión online.\n",
    "\n",
    "Haga click [aquí](http://nbviewer.jupyter.org/github/jdvelasq/ingenieria-economica/blob/master/13-montecarlo.ipynb) para ver la última versión online en `nbviewer`. \n",
    "\n",
    "---"
   ]
  },
  {
   "cell_type": "markdown",
   "metadata": {},
   "source": [
    "A continuación se desarrolla el mismo caso anterior pero considerando que el precio y la producción son variables aleatorias."
   ]
  },
  {
   "cell_type": "code",
   "execution_count": 1,
   "metadata": {
    "collapsed": true
   },
   "outputs": [],
   "source": [
    "import numpy as np\n",
    "import numpy.random as rdn\n",
    "import cashflows as cf"
   ]
  },
  {
   "cell_type": "code",
   "execution_count": 2,
   "metadata": {},
   "outputs": [],
   "source": [
    "## se construye una función que recibe la información relevante y retorn el npv\n",
    "\n",
    "def project(marr,\n",
    "            costo,\n",
    "            inversion):\n",
    "    \n",
    "    \n",
    "    precio      = rdn.triangular(  8,  10,  12, 10)\n",
    "    produccion  = rdn.triangular( 80, 100, 120, 10)\n",
    "\n",
    "    \n",
    "    ingre = cf.cashflow(const_value = [0] + (precio*produccion).tolist(), start=2018)  \n",
    "    opera = cf.cashflow(const_value = [0] + [costo] * 10, start=2018)\n",
    "    inver = cf.cashflow(const_value = [inversion] + [0] * 10, start=2018)\n",
    "    \n",
    "    asset = cf.cashflow(const_value=[inversion] + [0] * 10, start=2018)\n",
    "    life  = cf.cashflow(const_value=[5] + [0]*10, start=2018)\n",
    "    \n",
    "    dep   = cf.depreciation_sl(costs = asset, life=life)['Depr']\n",
    "    \n",
    "    antes = ingre - opera - inver - dep\n",
    "    desp  = cf.after_tax_cashflow(antes, cf.interest_rate([30] * 11, start=2018))\n",
    "    neto  = antes + dep\n",
    "    \n",
    "    npv   = cf.timevalue(cflo=neto, prate=marr)\n",
    "    \n",
    "    return npv"
   ]
  },
  {
   "cell_type": "code",
   "execution_count": 3,
   "metadata": {},
   "outputs": [
    {
     "data": {
      "text/plain": [
       "2464.7584256379441"
      ]
     },
     "execution_count": 3,
     "metadata": {},
     "output_type": "execute_result"
    }
   ],
   "source": [
    "marr = cf.interest_rate([10] * 11, start=2018)\n",
    "project(marr, 220, 2000)"
   ]
  },
  {
   "cell_type": "code",
   "execution_count": 4,
   "metadata": {
    "collapsed": true
   },
   "outputs": [],
   "source": [
    "import matplotlib.pyplot as plt"
   ]
  },
  {
   "cell_type": "code",
   "execution_count": 5,
   "metadata": {},
   "outputs": [
    {
     "data": {
      "text/plain": [
       "[3142.5142527900798,\n",
       " 2633.7423158920528,\n",
       " 2980.5819705687368,\n",
       " 2864.4818035430476,\n",
       " 2830.550890203167,\n",
       " 2992.0315599528285,\n",
       " 2641.3274230367315,\n",
       " 3143.5819037390729,\n",
       " 2614.1423871337356]"
      ]
     },
     "execution_count": 5,
     "metadata": {},
     "output_type": "execute_result"
    }
   ],
   "source": [
    "result = []\n",
    "\n",
    "for sim in range(1000):\n",
    "    result.append(project(marr, 220, 2000))\n",
    "result[1:10]"
   ]
  },
  {
   "cell_type": "code",
   "execution_count": 6,
   "metadata": {
    "scrolled": false
   },
   "outputs": [
    {
     "data": {
      "image/png": "[encoded data removed]",
      "text/plain": [
       "<matplotlib.figure.Figure at 0x112c6ce80>"
      ]
     },
     "metadata": {},
     "output_type": "display_data"
    }
   ],
   "source": [
    "plt.hist(result)\n",
    "plt.show()"
   ]
  },
  {
   "cell_type": "markdown",
   "metadata": {},
   "source": [
    "**Ejercicio.--** Incluya en la simulación a las variables costo e inversión."
   ]
  },
  {
   "cell_type": "markdown",
   "metadata": {},
   "source": [
    "Análisis bajo riesgo\n",
    "===\n",
    "\n",
    "**Juan David Velásquez Henao**  \n",
    "jdvelasq@unal.edu.co   \n",
    "Universidad Nacional de Colombia, Sede Medellín  \n",
    "Facultad de Minas  \n",
    "Medellín, Colombia\n",
    "\n",
    "---\n",
    "\n",
    "Haga click [aquí](https://github.com/jdvelasq/ingenieria-economica/blob/master/13-montecarlo.ipynb) para acceder a la última versión online.\n",
    "\n",
    "Haga click [aquí](http://nbviewer.jupyter.org/github/jdvelasq/ingenieria-economica/blob/master/13-montecarlo.ipynb) para ver la última versión online en `nbviewer`. \n",
    "\n",
    "---"
   ]
  }
 ],
 "metadata": {
  "kernelspec": {
   "display_name": "Python 3",
   "language": "python",
   "name": "python3"
  },
  "language_info": {
   "codemirror_mode": {
    "name": "ipython",
    "version": 3
   },
   "file_extension": ".py",
   "mimetype": "text/x-python",
   "name": "python",
   "nbconvert_exporter": "python",
   "pygments_lexer": "ipython3",
   "version": "3.6.2"
  }
 },
 "nbformat": 4,
 "nbformat_minor": 1
}
