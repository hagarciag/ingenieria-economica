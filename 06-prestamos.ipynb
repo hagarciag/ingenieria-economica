{
 "cells": [
  {
   "cell_type": "markdown",
   "metadata": {
    "slideshow": {
     "slide_type": "slide"
    }
   },
   "source": [
    "Préstamos\n",
    "===\n",
    "\n",
    "**Juan David Velásquez Henao**  \n",
    "jdvelasq@unal.edu.co   \n",
    "Universidad Nacional de Colombia, Sede Medellín  \n",
    "Facultad de Minas  \n",
    "Medellín, Colombia\n",
    "\n",
    "---\n",
    "\n",
    "Haga click [aquí](https://github.com/jdvelasq/ingenieria-economica/blob/master/10-prestamos.ipynb) para acceder a la última versión online.\n",
    "\n",
    "Haga click [aquí](http://nbviewer.jupyter.org/github/jdvelasq/ingenieria-economica/blob/master/10-prestamos.ipynb) para ver la última versión online en `nbviewer`.\n",
    "\n",
    "---"
   ]
  },
  {
   "cell_type": "markdown",
   "metadata": {
    "slideshow": {
     "slide_type": "slide"
    }
   },
   "source": [
    "**Preparación**"
   ]
  },
  {
   "cell_type": "code",
   "execution_count": null,
   "metadata": {
    "collapsed": true,
    "slideshow": {
     "slide_type": "-"
    }
   },
   "outputs": [],
   "source": [
    "# Importa la librería financiera.\n",
    "# Solo es necesario ejecutar la importación una sola vez.\n",
    "import cashflows as cf"
   ]
  },
  {
   "cell_type": "markdown",
   "metadata": {
    "slideshow": {
     "slide_type": "slide"
    }
   },
   "source": [
    "### Bullet Loan\n",
    "\n",
    "`bullet_loan(amount, nrate, dispoints=0, orgpoints=0, prepmt=None)`\n",
    "\n",
    "En este tipo de préstamo se pagan únicamente intereses durante la vida del crédito; con la última cuota se paga el capital.\n",
    "\n",
    "* `amount` -- monto del crédito.\n",
    "* `nrate` -- tasa nominal de interés.\n",
    "* `dispoints` -- puntos (costo) de descuento como porcentaje de `amount`. Se consideran como intereses anticipados y son deducibles de impuestos.\n",
    "* `orgpoints` -- puntos (costo) de constitución como porcentaje de `amount`. Son costos no deducibles para el pago de impuestos. \n",
    "* `prepmt` -- flujo de efectivo que representa prepago de la deuda."
   ]
  },
  {
   "cell_type": "markdown",
   "metadata": {
    "slideshow": {
     "slide_type": "slide"
    }
   },
   "source": [
    "***Ejemplo.-*** Modele un préstamo de  `$` 1000 a una tasa de interés del 10% y una duración de 10 años."
   ]
  },
  {
   "cell_type": "code",
   "execution_count": null,
   "metadata": {
    "scrolled": true,
    "slideshow": {
     "slide_type": "fragment"
    }
   },
   "outputs": [],
   "source": [
    "cf.bullet_loan(amount=1000, \n",
    "               nrate=cf.interest_rate(const_value=10, nper=11), \n",
    "               dispoints=0, \n",
    "               orgpoints=0, \n",
    "               prepmt=None)  "
   ]
  },
  {
   "cell_type": "code",
   "execution_count": null,
   "metadata": {
    "scrolled": true,
    "slideshow": {
     "slide_type": "slide"
    }
   },
   "outputs": [],
   "source": [
    "## se puede asignar a una variable\n",
    "x = cf.bullet_loan(amount=1000, \n",
    "                   nrate=cf.interest_rate(const_value=10, nper=11), \n",
    "                   dispoints=0, \n",
    "                   orgpoints=0, \n",
    "                   prepmt=None)  \n",
    "x"
   ]
  },
  {
   "cell_type": "code",
   "execution_count": null,
   "metadata": {
    "slideshow": {
     "slide_type": "fragment"
    }
   },
   "outputs": [],
   "source": [
    "## todos los tipos de créditos tiene funciones \n",
    "## para obtener las columnas de la tabla de \n",
    "## amortizacion como un flujo de efectivo\n",
    "x.intpmt"
   ]
  },
  {
   "cell_type": "code",
   "execution_count": null,
   "metadata": {
    "slideshow": {
     "slide_type": "fragment"
    }
   },
   "outputs": [],
   "source": [
    "sum(x.intpmt)"
   ]
  },
  {
   "cell_type": "code",
   "execution_count": null,
   "metadata": {
    "slideshow": {
     "slide_type": "fragment"
    }
   },
   "outputs": [],
   "source": [
    "x.ppalpmt  ## pagos a capital"
   ]
  },
  {
   "cell_type": "code",
   "execution_count": null,
   "metadata": {
    "slideshow": {
     "slide_type": "fragment"
    }
   },
   "outputs": [],
   "source": [
    "x.begppalbal ## balance inicial del período"
   ]
  },
  {
   "cell_type": "code",
   "execution_count": null,
   "metadata": {
    "slideshow": {
     "slide_type": "fragment"
    }
   },
   "outputs": [],
   "source": [
    "x.endppalbal ## balance final del período"
   ]
  },
  {
   "cell_type": "markdown",
   "metadata": {
    "slideshow": {
     "slide_type": "slide"
    }
   },
   "source": [
    "***Ejemplo.--*** Para el crédito anterior, suponga que se hace un prepago de la deuda por `$` 500 en `t = 5`."
   ]
  },
  {
   "cell_type": "code",
   "execution_count": null,
   "metadata": {
    "scrolled": true,
    "slideshow": {
     "slide_type": "fragment"
    }
   },
   "outputs": [],
   "source": [
    "## tasa de interés\n",
    "nrate = cf.interest_rate(const_value=10, nper=11)\n",
    "\n",
    "## prepago de duda\n",
    "prepmt = cf.cashflow(const_value=0, nper=11, spec=(5,500))\n",
    "\n",
    "## crédito\n",
    "cf.bullet_loan(amount=1000,\n",
    "               nrate=nrate, \n",
    "               dispoints=0, \n",
    "               orgpoints=0, \n",
    "               prepmt=prepmt) "
   ]
  },
  {
   "cell_type": "code",
   "execution_count": null,
   "metadata": {
    "scrolled": true,
    "slideshow": {
     "slide_type": "slide"
    }
   },
   "outputs": [],
   "source": [
    "## Si el prepago es mayor que la deuda, se ajusta el saldo.\n",
    "prepmt = cf.cashflow(const_value=0, nper=11, spec=(5,5000))\n",
    "\n",
    "cf.bullet_loan(amount=1000,\n",
    "               nrate=nrate, \n",
    "               dispoints=0, \n",
    "               orgpoints=0, \n",
    "               prepmt=prepmt) "
   ]
  },
  {
   "cell_type": "markdown",
   "metadata": {
    "slideshow": {
     "slide_type": "slide"
    }
   },
   "source": [
    "***Ejemplo.--*** Modele el crédito anterior suponiendo que la tasa cambia al 8% a partir de `t = 6`."
   ]
  },
  {
   "cell_type": "code",
   "execution_count": null,
   "metadata": {
    "scrolled": false,
    "slideshow": {
     "slide_type": "fragment"
    }
   },
   "outputs": [],
   "source": [
    "nrate = cf.interest_rate(const_value=10, \n",
    "                         nper=11, \n",
    "                         spec=(6,8)) \n",
    "\n",
    "cf.bullet_loan(amount=1000,\n",
    "               nrate=nrate, \n",
    "               dispoints=0, \n",
    "               orgpoints=0, \n",
    "               prepmt=None) \n"
   ]
  },
  {
   "cell_type": "markdown",
   "metadata": {
    "slideshow": {
     "slide_type": "slide"
    }
   },
   "source": [
    "### Balloon loan / tasa fija\n",
    "\n",
    "`fixed_rate_loan(amount, nrate, life, start, pyr=1, \n",
    "   grace=0, dispoints=0, orgpoints=0, prepmt=None, \n",
    "   balloonpmt=None)`\n",
    "\n",
    "\n",
    "En este tipo de crédito la tasa permanece fija durante toda la vida de la deuda. El pago periodico (intereses + capital) es constante. Admite la especificación de cuotas extras (*balloon payments*) pactadas desde el principio del crédito que tienen como fin reducir el pago períodico.\n",
    "\n",
    "\n",
    "* `amount` -- monto del crédito.\n",
    "* `nrate` -- tasa nominal de interés.\n",
    "* `life` -- plazo del crédito.\n",
    "* `start` -- especificación del período de inicio del crédito.\n",
    "* `pyr` -- número de periodos de capitalización por año para la tasa.\n",
    "* `grace` -- número de períodos de gracia antes del pago del capital.\n",
    "* `dispoints` -- puntos (costo) de descuento como porcentaje de `amount`. Se consideran como intereses anticipados y son deducibles de impuestos.\n",
    "* `orgpoints` -- puntos (costo) de constitución como porcentaje de `amount`. Son costos no deducibles para el pago de impuestos. \n",
    "* `prepmt` -- flujo de efectivo que representa prepago de la deuda.\n",
    "* `balloonpmt` -- pagos extra al pago períodico especificados como un objeto cashflow."
   ]
  },
  {
   "cell_type": "markdown",
   "metadata": {
    "collapsed": true,
    "slideshow": {
     "slide_type": "slide"
    }
   },
   "source": [
    "***Ejemplo.--*** Modele un préstamo de  `$` 1000 a un plazo de 10 años, cuotas anuales y una tasa del 10%.  "
   ]
  },
  {
   "cell_type": "code",
   "execution_count": null,
   "metadata": {
    "scrolled": false,
    "slideshow": {
     "slide_type": "fragment"
    }
   },
   "outputs": [],
   "source": [
    "cf.fixed_rate_loan(amount=1000, # monto\n",
    "                   nrate=10,    # tasa de interés\n",
    "                   life=10,     # número de cuotas\n",
    "                   start=None,\n",
    "                   grace=0,\n",
    "                   dispoints=0,\n",
    "                   orgpoints=0,\n",
    "                   prepmt=None,\n",
    "                   balloonpmt=None)\n"
   ]
  },
  {
   "cell_type": "markdown",
   "metadata": {
    "slideshow": {
     "slide_type": "slide"
    }
   },
   "source": [
    "***Ejemplo.--*** Considere el mismo crédito anterior. ¿Cómo se modifican los pagos períodicos, si se pacta un pago adicional de `$` 200 en los períodos 5 y 10?."
   ]
  },
  {
   "cell_type": "code",
   "execution_count": null,
   "metadata": {
    "slideshow": {
     "slide_type": "fragment"
    }
   },
   "outputs": [],
   "source": [
    "balloonpmt = cf.cashflow(const_value=0,\n",
    "                        nper=11,\n",
    "                        spec=[(5,200), (10,200)])\n",
    "\n",
    "cf.fixed_rate_loan(amount=1000, # monto\n",
    "                   nrate=10,    # tasa de interés por período\n",
    "                   life=10,     # número de cuotas\n",
    "                   start=None,\n",
    "                   grace=0,\n",
    "                   dispoints=0,\n",
    "                   orgpoints=0,\n",
    "                   prepmt=None,\n",
    "                   balloonpmt=balloonpmt)\n"
   ]
  },
  {
   "cell_type": "markdown",
   "metadata": {
    "slideshow": {
     "slide_type": "slide"
    }
   },
   "source": [
    "***Ejemplo.--*** Considere el caso anterior y un prepago de la deuda de `$` 100 en los períodos 3 y 7."
   ]
  },
  {
   "cell_type": "code",
   "execution_count": null,
   "metadata": {
    "scrolled": true,
    "slideshow": {
     "slide_type": "fragment"
    }
   },
   "outputs": [],
   "source": [
    "prepmt = cf.cashflow(const_value=0, \n",
    "                     nper = 11, \n",
    "                     spec=[(3, 100), (7, 100)])\n",
    "\n",
    "cf.fixed_rate_loan(amount=1000, \n",
    "                   nrate=10,    \n",
    "                   life=10,     \n",
    "                   start=None,\n",
    "                   grace=0,\n",
    "                   dispoints=0,\n",
    "                   orgpoints=0,\n",
    "                   prepmt=prepmt,\n",
    "                   balloonpmt=balloonpmt)\n",
    "\n",
    "\n"
   ]
  },
  {
   "cell_type": "markdown",
   "metadata": {
    "slideshow": {
     "slide_type": "slide"
    }
   },
   "source": [
    "***Ejemplo.--*** Un crédito *bullet* puede modelarse como un crédito *balloon* usando un prepago al final igual al monto de la deuda."
   ]
  },
  {
   "cell_type": "code",
   "execution_count": null,
   "metadata": {
    "scrolled": false,
    "slideshow": {
     "slide_type": "fragment"
    }
   },
   "outputs": [],
   "source": [
    "balloonpmt = cf.cashflow(const_value=0,\n",
    "                         nper=11,\n",
    "                         spec=(10, 1000))\n",
    "\n",
    "cf.fixed_rate_loan(amount=1000, \n",
    "                   nrate=10,    \n",
    "                   life=10,     \n",
    "                   start=None,\n",
    "                   grace=0,\n",
    "                   dispoints=0,\n",
    "                   orgpoints=0,\n",
    "                   prepmt=None,\n",
    "                   balloonpmt=balloonpmt)\n"
   ]
  },
  {
   "cell_type": "markdown",
   "metadata": {
    "slideshow": {
     "slide_type": "slide"
    }
   },
   "source": [
    "### Abono constante a capital\n",
    "\n",
    "`fixed_ppal_loan(amount, nrate, grace=0, dispoints=0, orgpoints=0,\n",
    "   prepmt=None, balloonpmt=None)`\n",
    "\n",
    "En este tipo de crédito el abono al capital es una cantidad fija durante todos los períodos, de tal forma que el pago total por período es variable (ya que incluye los intereses pagados sobre el saldo de la deuda).\n",
    "\n",
    "* `amount` -- monto del crédito.\n",
    "* `nrate` -- tasa nominal de interés.\n",
    "* `grace` -- número de períodos de gracia antes del pago del capital.\n",
    "* `dispoints` -- puntos (costo) de descuento como porcentaje de `amount`. Se consideran como intereses anticipados y son deducibles de impuestos.\n",
    "* `orgpoints` -- puntos (costo) de constitución como porcentaje de `amount`. Son costos no deducibles para el pago de impuestos. \n",
    "* `prepmt` -- flujo de efectivo que representa prepago de la deuda.\n",
    "* `balloonpmt` -- pagos extra al pago períodico especificados como un objeto cashflow.\n"
   ]
  },
  {
   "cell_type": "markdown",
   "metadata": {
    "slideshow": {
     "slide_type": "slide"
    }
   },
   "source": [
    "***Ejemplo.--*** Modele un crédito por `$` 1000 a 10 años y una tasa del 10%. Los pagos son anuales."
   ]
  },
  {
   "cell_type": "code",
   "execution_count": null,
   "metadata": {
    "slideshow": {
     "slide_type": "fragment"
    }
   },
   "outputs": [],
   "source": [
    "nrate = cf.interest_rate(const_value=10, nper=11)\n",
    "\n",
    "cf.fixed_ppal_loan(amount=1000, \n",
    "                   nrate=nrate, \n",
    "                   grace=0, \n",
    "                   dispoints=0, \n",
    "                   orgpoints=0,\n",
    "                   prepmt=None, \n",
    "                   balloonpmt=None)\n"
   ]
  },
  {
   "cell_type": "code",
   "execution_count": null,
   "metadata": {
    "slideshow": {
     "slide_type": "slide"
    }
   },
   "outputs": [],
   "source": [
    "##\n",
    "## período de gracia de 3\n",
    "##\n",
    "nrate = cf.interest_rate(const_value=10, nper=11)\n",
    "\n",
    "cf.fixed_ppal_loan(amount=1000, \n",
    "                   nrate=nrate, \n",
    "                   grace=3, \n",
    "                   dispoints=0, \n",
    "                   orgpoints=0,\n",
    "                   prepmt=None, \n",
    "                   balloonpmt=None)\n"
   ]
  },
  {
   "cell_type": "code",
   "execution_count": null,
   "metadata": {
    "slideshow": {
     "slide_type": "slide"
    }
   },
   "outputs": [],
   "source": [
    "##\n",
    "## este tipo de crédito admite una tasa de interés variable\n",
    "##\n",
    "nrate = cf.interest_rate(const_value=10, \n",
    "                         nper=11, \n",
    "                         spec=(6,8)) \n",
    "\n",
    "cf.fixed_ppal_loan(amount=1000, \n",
    "                   nrate=nrate, \n",
    "                   grace=0, \n",
    "                   dispoints=0, \n",
    "                   orgpoints=0,\n",
    "                   prepmt=None, \n",
    "                   balloonpmt=None)"
   ]
  },
  {
   "cell_type": "code",
   "execution_count": null,
   "metadata": {
    "scrolled": true,
    "slideshow": {
     "slide_type": "slide"
    }
   },
   "outputs": [],
   "source": [
    "##\n",
    "## este tipo de crédito admite pagos adicionales \n",
    "## programados como abono a la deuda\n",
    "##\n",
    "nrate = cf.interest_rate(const_value=10, nper=11)\n",
    "\n",
    "balloonpmt = cf.cashflow(const_value=0, \n",
    "                         nper=11, \n",
    "                         spec=(5, 500))\n",
    "\n",
    "cf.fixed_ppal_loan(amount=1000, \n",
    "                   nrate=nrate, \n",
    "                   grace=0, \n",
    "                   dispoints=0, \n",
    "                   orgpoints=0,\n",
    "                   prepmt=None, \n",
    "                   balloonpmt=balloonpmt)"
   ]
  },
  {
   "cell_type": "code",
   "execution_count": null,
   "metadata": {
    "slideshow": {
     "slide_type": "slide"
    }
   },
   "outputs": [],
   "source": [
    "##\n",
    "## este tipo de crédito admite \n",
    "## una tasa de interés variable\n",
    "##\n",
    "nrate = cf.interest_rate(const_value=10, \n",
    "                         nper=11,\n",
    "                         spec=(6,8)) \n",
    "\n",
    "balloonpmt = cf.cashflow(const_value=0, \n",
    "                         nper=11, \n",
    "                         spec=(5, 500))\n",
    "\n",
    "cf.fixed_ppal_loan(amount=1000, \n",
    "                   nrate=nrate, \n",
    "                   grace=0, \n",
    "                   dispoints=0, \n",
    "                   orgpoints=0,\n",
    "                   prepmt=None, \n",
    "                   balloonpmt=balloonpmt)"
   ]
  },
  {
   "cell_type": "code",
   "execution_count": null,
   "metadata": {
    "slideshow": {
     "slide_type": "slide"
    }
   },
   "outputs": [],
   "source": [
    "##\n",
    "## ejemplo anterior con período de gracia\n",
    "##\n",
    "nrate = cf.interest_rate(const_value=10, \n",
    "                         nper=11,\n",
    "                         spec=(6,8)) \n",
    "\n",
    "balloonpmt = cf.cashflow(const_value=0, \n",
    "                         nper=11, \n",
    "                         spec=(5, 500))\n",
    "\n",
    "cf.fixed_ppal_loan(amount=1000, \n",
    "                   nrate=nrate, \n",
    "                   grace=5, \n",
    "                   dispoints=0, \n",
    "                   orgpoints=0,\n",
    "                   prepmt=None, \n",
    "                   balloonpmt=balloonpmt)"
   ]
  },
  {
   "cell_type": "markdown",
   "metadata": {
    "slideshow": {
     "slide_type": "slide"
    }
   },
   "source": [
    "### Buydown loan\n",
    "\n",
    "`buydown_loan(amount, nrate, grace=0, dispoints=0, \n",
    "   orgpoints=0, prepmt=None)`\n",
    "\n",
    "Este tipo de préstamo es similar a los préstamos de cuota fija (balloon loans) pero con tasa cambiante en el tiempo. No admiten cuotas adicionales para reducir el pago fijo períodico. Cuando hay un cambio en la tasa de interés, el pago períodico total se recalcula para reflejar el cambio de tasa de interés.  \n",
    "\n",
    "* `amount` -- monto del crédito.\n",
    "* `nrate` -- tasa nominal de interés.\n",
    "* `grace` -- número de períodos de gracia antes del pago del capital.\n",
    "* `dispoints` -- puntos (costo) de descuento como porcentaje de `amount`. Se consideran como intereses anticipados y son deducibles de impuestos.\n",
    "* `orgpoints` -- puntos (costo) de constitución como porcentaje de `amount`. Son costos no deducibles para el pago de impuestos. \n",
    "* `prepmt` -- flujo de efectivo que representa prepago de la deuda.\n"
   ]
  },
  {
   "cell_type": "code",
   "execution_count": null,
   "metadata": {
    "slideshow": {
     "slide_type": "slide"
    }
   },
   "outputs": [],
   "source": [
    "##\n",
    "## los resultados son iguales a un crédito balloon\n",
    "##\n",
    "nrate = cf.interest_rate(const_value=10, \n",
    "                         nper=11)\n",
    "\n",
    "cf.buydown_loan(amount=1000, \n",
    "                nrate=nrate, \n",
    "                dispoints=0, \n",
    "                orgpoints=0, \n",
    "                prepmt=None)\n"
   ]
  },
  {
   "cell_type": "code",
   "execution_count": null,
   "metadata": {
    "slideshow": {
     "slide_type": "slide"
    }
   },
   "outputs": [],
   "source": [
    "##\n",
    "## cambios en la tasa de interés\n",
    "##\n",
    "nrate = cf.interest_rate(const_value=10, \n",
    "                         nper=11,\n",
    "                         spec=(5,5))\n",
    "\n",
    "cf.buydown_loan(amount=1000, \n",
    "                nrate=nrate, \n",
    "                dispoints=0, \n",
    "                orgpoints=0, \n",
    "                prepmt=None)"
   ]
  },
  {
   "cell_type": "code",
   "execution_count": null,
   "metadata": {
    "scrolled": true,
    "slideshow": {
     "slide_type": "slide"
    }
   },
   "outputs": [],
   "source": [
    "##\n",
    "## se introducen 2 prepagos por $ 100 cada uno\n",
    "## en t = 3, 6\n",
    "##\n",
    "nrate = cf.interest_rate(const_value=10, \n",
    "                         nper=11)\n",
    "\n",
    "prepmt = cf.cashflow(const_value=0,\n",
    "                     nper=11,\n",
    "                     spec=[(3,100), (6,100)])\n",
    "\n",
    "cf.buydown_loan(amount=1000, \n",
    "                nrate=nrate, \n",
    "                dispoints=0, \n",
    "                orgpoints=0, \n",
    "                prepmt=prepmt)\n"
   ]
  },
  {
   "cell_type": "markdown",
   "metadata": {
    "slideshow": {
     "slide_type": "slide"
    }
   },
   "source": [
    "`to_cashflow(tax_rate=0)`\n",
    "\n",
    "Convierte el crédito a un flujo de fondos equivalente.\n",
    "\n",
    "* `tax_rate` -- impuesto de renta. Se usa para tener en cuenta la reducción del pago por impuesto de renta debido a que los intereses son considerados como costo financiero deducible de impuestos."
   ]
  },
  {
   "cell_type": "code",
   "execution_count": null,
   "metadata": {},
   "outputs": [],
   "source": [
    "nrate = cf.interest_rate(const_value=10, \n",
    "                         nper=11)\n",
    "\n",
    "prepmt = cf.cashflow(const_value=0,\n",
    "                     nper=11,\n",
    "                     spec=[(3,100), (6,100)])\n",
    "\n",
    "cf.buydown_loan(amount=1000, \n",
    "                nrate=nrate, \n",
    "                dispoints=0, \n",
    "                orgpoints=0, \n",
    "                prepmt=prepmt).to_cashflow()"
   ]
  },
  {
   "cell_type": "markdown",
   "metadata": {
    "slideshow": {
     "slide_type": "slide"
    }
   },
   "source": [
    "`true_rate(tax_rate=0)`\n",
    "\n",
    "\n",
    "Calcula la tasa real del interés del crédito. Permite la comparación de créditos. Para el cálculo, el préstamo es convertido al flujo de efectivo equivalente teniendo en cuenta lo siguiente:\n",
    "\n",
    "* Los puntos de causación son considerados como no deducibles y son ignorados en el cálculo del beneficio del impuesto de renta.\n",
    "\n",
    "* Los puntos de descuento son considerado como intereses prepagados y son deducibles de impuestos.\n",
    "\n",
    "* Si `tax_rate` es diferente de cero, la tasa de interés verdadera después de impuestos es calculada. Esto implica que en el cálculo solo la porción `(1-tax_rate)` de los intereses (incluyendo los puntos de descuento) es considerada en el cálculo.\n",
    "\n",
    "        \n"
   ]
  },
  {
   "cell_type": "code",
   "execution_count": null,
   "metadata": {
    "slideshow": {
     "slide_type": "slide"
    }
   },
   "outputs": [],
   "source": [
    "nrate = cf.interest_rate(const_value=10, \n",
    "                         nper=11)\n",
    "\n",
    "prepmt = cf.cashflow(const_value=0,\n",
    "                     nper=11,\n",
    "                     spec=[(3,100), (6,100)])\n",
    "\n",
    "cf.buydown_loan(amount=1000, \n",
    "                nrate=nrate, \n",
    "                dispoints=0, \n",
    "                orgpoints=0, \n",
    "                prepmt=prepmt).true_rate()"
   ]
  },
  {
   "cell_type": "markdown",
   "metadata": {
    "slideshow": {
     "slide_type": "slide"
    }
   },
   "source": [
    "Préstamos\n",
    "===\n",
    "\n",
    "**Juan David Velásquez Henao**  \n",
    "jdvelasq@unal.edu.co   \n",
    "Universidad Nacional de Colombia, Sede Medellín  \n",
    "Facultad de Minas  \n",
    "Medellín, Colombia\n",
    "\n",
    "---\n",
    "\n",
    "Haga click [aquí](https://github.com/jdvelasq/ingenieria-economica/blob/master/10-prestamos.ipynb) para acceder a la última versión online.\n",
    "\n",
    "Haga click [aquí](http://nbviewer.jupyter.org/github/jdvelasq/ingenieria-economica/blob/master/10-prestamos.ipynb) para ver la última versión online en `nbviewer`.\n",
    "\n",
    "---"
   ]
  },
  {
   "cell_type": "markdown",
   "metadata": {
    "slideshow": {
     "slide_type": "slide"
    }
   },
   "source": [
    "**Bibliografía**\n",
    "\n",
    "> * [1] SAS/ETS 14.1 User's Guide, 2015.   \n",
    "* [2] **hp** 12c platinum financial calculator. User's guide. \n",
    "* [3] HP Business Consultant II Owner's manual.\n",
    "* [4] C.S. Park and G.P. Sharp-Bette. Advanced Engineering Economics. John Wiley & Sons, Inc., 1990."
   ]
  }
 ],
 "metadata": {
  "anaconda-cloud": {},
  "celltoolbar": "Slideshow",
  "kernelspec": {
   "display_name": "Python 3",
   "language": "python",
   "name": "python3"
  },
  "language_info": {
   "codemirror_mode": {
    "name": "ipython",
    "version": 3
   },
   "file_extension": ".py",
   "mimetype": "text/x-python",
   "name": "python",
   "nbconvert_exporter": "python",
   "pygments_lexer": "ipython3",
   "version": "3.6.2"
  }
 },
 "nbformat": 4,
 "nbformat_minor": 1
}
