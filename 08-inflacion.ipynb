{
 "cells": [
  {
   "cell_type": "markdown",
   "metadata": {
    "slideshow": {
     "slide_type": "slide"
    }
   },
   "source": [
    "Inflación\n",
    "===\n",
    "\n",
    "**Juan David Velásquez Henao**  \n",
    "jdvelasq@unal.edu.co   \n",
    "Universidad Nacional de Colombia, Sede Medellín  \n",
    "Facultad de Minas  \n",
    "Medellín, Colombia\n",
    "\n",
    "---\n",
    "\n",
    "Haga click [aquí](https://github.com/jdvelasq/ingenieria-economica/blob/master/05-inflacion.ipynb) para acceder a la última versión online\n",
    "\n",
    "Haga click [aquí](http://nbviewer.jupyter.org/github/jdvelasq/ingenieria-economica/blob/master/05-inflacion.ipynb) para ver la última versión online en `nbviewer`.\n",
    "\n",
    "---"
   ]
  },
  {
   "cell_type": "markdown",
   "metadata": {
    "slideshow": {
     "slide_type": "slide"
    }
   },
   "source": [
    "**Preparación**"
   ]
  },
  {
   "cell_type": "code",
   "execution_count": 1,
   "metadata": {
    "collapsed": true
   },
   "outputs": [],
   "source": [
    "# Importa la librería financiera.\n",
    "# Solo es necesario ejecutar la importación una sola vez.\n",
    "import cashflows as cf"
   ]
  },
  {
   "cell_type": "markdown",
   "metadata": {
    "collapsed": true,
    "slideshow": {
     "slide_type": "slide"
    }
   },
   "source": [
    "### Inflación\n",
    "\n",
    "Se define como la pérdida de poder adquisitivo de la moneda. Existen diferentes medidas:\n",
    "\n",
    "* Indice de precios del consumidos (IPC).\n",
    "* Indice de precios del productor (IPP).\n",
    "* Medidas derivadas a partir del producto interno bruto.\n",
    "\n",
    "Tasa promedio de inflación: tasa porcentual anual que representa el incremento de los precios sobre un período de un año respecto al año anterior."
   ]
  },
  {
   "cell_type": "markdown",
   "metadata": {
    "slideshow": {
     "slide_type": "slide"
    }
   },
   "source": [
    "### Tratamiento de la inflación\n",
    "\n",
    "* Precios constantes.\n",
    "* Precios corrientes.\n",
    "* Tasa de interés del mercado $(i)$. Incluye una componente de utilidad económica y una de inflación.\n",
    "* Tasa de interés libre de inflación $(i')$. Representa únicamente la componente de utilidad económica.\n",
    "* Tasa de inflación general $(f)$. Incremento promedio anual en los precios de los bienes y servicios."
   ]
  },
  {
   "cell_type": "markdown",
   "metadata": {
    "slideshow": {
     "slide_type": "slide"
    }
   },
   "source": [
    "### Relaciones de equivalencia\n",
    "\n",
    "* $F_n'$: valor en moneda **constante** (en precios del período 0) que ocurren en el flujo de caja al final del período $n$.  \n",
    "\n",
    "* $F_n$: valor en moneda **corriente** que ocurren en el flujo de caja al final del período $n$.  \n",
    "\n",
    "Conversión entre moneda constante y corriente: \n",
    "\n",
    "$$F_n=F_n^{'}~(1+f)^n$$   \n",
    "\n",
    "Valor presente:\n",
    "\n",
    "$$P=F_n^{'}~(1+i^{'})^{-n} = F_n^{'}~(1+i)^{-n}$$ \n",
    "\n",
    "Relación entre tasas:\n",
    "\n",
    "$$i^{'}=\\frac{i-f}{1+f}$$ \n",
    "\n",
    "$$(1+i^{'})(1+f)=1+i$$"
   ]
  },
  {
   "cell_type": "markdown",
   "metadata": {
    "slideshow": {
     "slide_type": "slide"
    }
   },
   "source": [
    "`const2curr(cflo, inflation, base_date=0)`\n",
    "\n",
    "`curr2const(cflo, inflation, base_date=0)`\n",
    "\n",
    "Convierte un flujo de efectivo en corrientes a constante y viceversa.\n",
    "\n",
    "* `cflo` -- flujo de efectivo.\n",
    "* `inflation` -- tasa de inflación por período.\n",
    "* `base_date` -- período base para realizar los cálculos."
   ]
  },
  {
   "cell_type": "markdown",
   "metadata": {
    "slideshow": {
     "slide_type": "slide"
    }
   },
   "source": [
    "***Ejemplo.--*** Considere un flujo de caja constante de `$` 1000. Conviértalo a dinero del período 0 usando una inflación del 5% por período. "
   ]
  },
  {
   "cell_type": "code",
   "execution_count": 2,
   "metadata": {
    "slideshow": {
     "slide_type": "fragment"
    }
   },
   "outputs": [
    {
     "data": {
      "text/plain": [
       "2016    1000.0\n",
       "2017    1000.0\n",
       "2018    1000.0\n",
       "2019    1000.0\n",
       "2020    1000.0\n",
       "2021    1000.0\n",
       "2022    1000.0\n",
       "2023    1000.0\n",
       "2024    1000.0\n",
       "2025    1000.0\n",
       "Freq: A-DEC, dtype: float64"
      ]
     },
     "execution_count": 2,
     "metadata": {},
     "output_type": "execute_result"
    }
   ],
   "source": [
    "x = cf.cashflow(const_value=[1000]*10, start='2016')\n",
    "x"
   ]
  },
  {
   "cell_type": "code",
   "execution_count": 3,
   "metadata": {
    "scrolled": false,
    "slideshow": {
     "slide_type": "fragment"
    }
   },
   "outputs": [
    {
     "data": {
      "text/plain": [
       "2016    1000.000000\n",
       "2017    1050.000000\n",
       "2018    1102.500000\n",
       "2019    1157.625000\n",
       "2020    1215.506250\n",
       "2021    1276.281563\n",
       "2022    1340.095641\n",
       "2023    1407.100423\n",
       "2024    1477.455444\n",
       "2025    1551.328216\n",
       "Freq: A-DEC, Name: 2016, dtype: float64"
      ]
     },
     "execution_count": 3,
     "metadata": {},
     "output_type": "execute_result"
    }
   ],
   "source": [
    "cf.const2curr(cflo=x, \n",
    "              inflation=cf.interest_rate(const_value=[5]*10, start='2016'))"
   ]
  },
  {
   "cell_type": "markdown",
   "metadata": {
    "slideshow": {
     "slide_type": "slide"
    }
   },
   "source": [
    "***Ejemplo.--*** Considere el mismo ejemplo anterior. Conviertalo a dinero del período 10."
   ]
  },
  {
   "cell_type": "code",
   "execution_count": 4,
   "metadata": {
    "slideshow": {
     "slide_type": "fragment"
    }
   },
   "outputs": [
    {
     "data": {
      "text/plain": [
       "2016     644.608916\n",
       "2017     676.839362\n",
       "2018     710.681330\n",
       "2019     746.215397\n",
       "2020     783.526166\n",
       "2021     822.702475\n",
       "2022     863.837599\n",
       "2023     907.029478\n",
       "2024     952.380952\n",
       "2025    1000.000000\n",
       "Freq: A-DEC, Name: 2025, dtype: float64"
      ]
     },
     "execution_count": 4,
     "metadata": {},
     "output_type": "execute_result"
    }
   ],
   "source": [
    "cf.const2curr(cflo=x, \n",
    "              inflation=cf.interest_rate(const_value=[5]*10, start='2016'),\n",
    "              base_date=9)"
   ]
  },
  {
   "cell_type": "markdown",
   "metadata": {
    "slideshow": {
     "slide_type": "slide"
    }
   },
   "source": [
    "**Ejemplo.--** Considere un flujo de caja constante de `$` 1000. Conviértalo a dinero del período 0 usando una inflación inicial del 5% por período. La inflación cambia al 10% a partir del período 5."
   ]
  },
  {
   "cell_type": "code",
   "execution_count": 5,
   "metadata": {
    "slideshow": {
     "slide_type": "fragment"
    }
   },
   "outputs": [
    {
     "name": "stdout",
     "output_type": "stream",
     "text": [
      "time     value +------------------+------------------+\n",
      "2016   1000.00                    ********************\n",
      "2017   1000.00                    ********************\n",
      "2018   1000.00                    ********************\n",
      "2019   1000.00                    ********************\n",
      "2020   1000.00                    ********************\n",
      "2021   1000.00                    ********************\n",
      "2022   1000.00                    ********************\n",
      "2023   1000.00                    ********************\n",
      "2024   1000.00                    ********************\n",
      "2025   1000.00                    ********************\n"
     ]
    }
   ],
   "source": [
    "## flujo de caja\n",
    "x = cf.cashflow(const_value=[1000]*10, start='2016')\n",
    "cf.textplot(x)"
   ]
  },
  {
   "cell_type": "code",
   "execution_count": 6,
   "metadata": {
    "slideshow": {
     "slide_type": "fragment"
    }
   },
   "outputs": [
    {
     "name": "stdout",
     "output_type": "stream",
     "text": [
      "time   value +------------------+------------------+\n",
      "2016    5.00                    **********\n",
      "2017    5.00                    **********\n",
      "2018    5.00                    **********\n",
      "2019    5.00                    **********\n",
      "2020    5.00                    **********\n",
      "2021   10.00                    ********************\n",
      "2022   10.00                    ********************\n",
      "2023   10.00                    ********************\n",
      "2024   10.00                    ********************\n",
      "2025   10.00                    ********************\n"
     ]
    }
   ],
   "source": [
    "## inflación\n",
    "inflation = cf.interest_rate(const_value=[5]*10, start='2016', chgpts={5:10})\n",
    "cf.textplot(inflation)"
   ]
  },
  {
   "cell_type": "code",
   "execution_count": 7,
   "metadata": {
    "scrolled": true,
    "slideshow": {
     "slide_type": "fragment"
    }
   },
   "outputs": [
    {
     "data": {
      "text/plain": [
       "2016    1000.000000\n",
       "2017    1050.000000\n",
       "2018    1102.500000\n",
       "2019    1157.625000\n",
       "2020    1215.506250\n",
       "2021    1337.056875\n",
       "2022    1470.762563\n",
       "2023    1617.838819\n",
       "2024    1779.622701\n",
       "2025    1957.584971\n",
       "Freq: A-DEC, Name: 2016, dtype: float64"
      ]
     },
     "execution_count": 7,
     "metadata": {},
     "output_type": "execute_result"
    }
   ],
   "source": [
    "cf.const2curr(cflo=x, inflation=inflation)"
   ]
  },
  {
   "cell_type": "code",
   "execution_count": 8,
   "metadata": {
    "slideshow": {
     "slide_type": "slide"
    }
   },
   "outputs": [
    {
     "data": {
      "text/html": [
       "<div>\n",
       "<style>\n",
       "    .dataframe thead tr:only-child th {\n",
       "        text-align: right;\n",
       "    }\n",
       "\n",
       "    .dataframe thead th {\n",
       "        text-align: left;\n",
       "    }\n",
       "\n",
       "    .dataframe tbody tr th {\n",
       "        vertical-align: top;\n",
       "    }\n",
       "</style>\n",
       "<table border=\"1\" class=\"dataframe\">\n",
       "  <thead>\n",
       "    <tr style=\"text-align: right;\">\n",
       "      <th></th>\n",
       "      <th>2016</th>\n",
       "      <th>2020</th>\n",
       "      <th>2025</th>\n",
       "    </tr>\n",
       "  </thead>\n",
       "  <tbody>\n",
       "    <tr>\n",
       "      <th>2016</th>\n",
       "      <td>1000.000000</td>\n",
       "      <td>1215.506250</td>\n",
       "      <td>1957.584971</td>\n",
       "    </tr>\n",
       "    <tr>\n",
       "      <th>2017</th>\n",
       "      <td>952.380952</td>\n",
       "      <td>1157.625000</td>\n",
       "      <td>1864.366639</td>\n",
       "    </tr>\n",
       "    <tr>\n",
       "      <th>2018</th>\n",
       "      <td>907.029478</td>\n",
       "      <td>1102.500000</td>\n",
       "      <td>1775.587275</td>\n",
       "    </tr>\n",
       "    <tr>\n",
       "      <th>2019</th>\n",
       "      <td>863.837599</td>\n",
       "      <td>1050.000000</td>\n",
       "      <td>1691.035500</td>\n",
       "    </tr>\n",
       "    <tr>\n",
       "      <th>2020</th>\n",
       "      <td>822.702475</td>\n",
       "      <td>1000.000000</td>\n",
       "      <td>1610.510000</td>\n",
       "    </tr>\n",
       "    <tr>\n",
       "      <th>2021</th>\n",
       "      <td>747.911341</td>\n",
       "      <td>909.090909</td>\n",
       "      <td>1464.100000</td>\n",
       "    </tr>\n",
       "    <tr>\n",
       "      <th>2022</th>\n",
       "      <td>679.919401</td>\n",
       "      <td>826.446281</td>\n",
       "      <td>1331.000000</td>\n",
       "    </tr>\n",
       "    <tr>\n",
       "      <th>2023</th>\n",
       "      <td>618.108546</td>\n",
       "      <td>751.314801</td>\n",
       "      <td>1210.000000</td>\n",
       "    </tr>\n",
       "    <tr>\n",
       "      <th>2024</th>\n",
       "      <td>561.916860</td>\n",
       "      <td>683.013455</td>\n",
       "      <td>1100.000000</td>\n",
       "    </tr>\n",
       "    <tr>\n",
       "      <th>2025</th>\n",
       "      <td>510.833509</td>\n",
       "      <td>620.921323</td>\n",
       "      <td>1000.000000</td>\n",
       "    </tr>\n",
       "  </tbody>\n",
       "</table>\n",
       "</div>"
      ],
      "text/plain": [
       "             2016         2020         2025\n",
       "2016  1000.000000  1215.506250  1957.584971\n",
       "2017   952.380952  1157.625000  1864.366639\n",
       "2018   907.029478  1102.500000  1775.587275\n",
       "2019   863.837599  1050.000000  1691.035500\n",
       "2020   822.702475  1000.000000  1610.510000\n",
       "2021   747.911341   909.090909  1464.100000\n",
       "2022   679.919401   826.446281  1331.000000\n",
       "2023   618.108546   751.314801  1210.000000\n",
       "2024   561.916860   683.013455  1100.000000\n",
       "2025   510.833509   620.921323  1000.000000"
      ]
     },
     "execution_count": 8,
     "metadata": {},
     "output_type": "execute_result"
    }
   ],
   "source": [
    "x = cf.cashflow(const_value=[1000]*10, start='2016')\n",
    "cf.curr2const(cflo=x, inflation=inflation, base_date=['2016', '2020', '2025'])"
   ]
  },
  {
   "cell_type": "markdown",
   "metadata": {
    "slideshow": {
     "slide_type": "slide"
    }
   },
   "source": [
    "Inflación\n",
    "===\n",
    "\n",
    "**Juan David Velásquez Henao**  \n",
    "jdvelasq@unal.edu.co   \n",
    "Universidad Nacional de Colombia, Sede Medellín  \n",
    "Facultad de Minas  \n",
    "Medellín, Colombia\n",
    "\n",
    "---\n",
    "\n",
    "Haga click [aquí](https://github.com/jdvelasq/ingenieria-economica/blob/master/05-inflacion.ipynb) para acceder a la última versión online\n",
    "\n",
    "Haga click [aquí](http://nbviewer.jupyter.org/github/jdvelasq/ingenieria-economica/blob/master/05-inflacion.ipynb) para ver la última versión online en `nbviewer`.\n",
    "\n",
    "---"
   ]
  }
 ],
 "metadata": {
  "anaconda-cloud": {},
  "celltoolbar": "Slideshow",
  "kernelspec": {
   "display_name": "Python 3",
   "language": "python",
   "name": "python3"
  },
  "language_info": {
   "codemirror_mode": {
    "name": "ipython",
    "version": 3
   },
   "file_extension": ".py",
   "mimetype": "text/x-python",
   "name": "python",
   "nbconvert_exporter": "python",
   "pygments_lexer": "ipython3",
   "version": "3.6.2"
  }
 },
 "nbformat": 4,
 "nbformat_minor": 1
}
